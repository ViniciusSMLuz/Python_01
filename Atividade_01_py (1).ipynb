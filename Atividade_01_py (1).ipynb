{
 "cells": [
  {
   "cell_type": "code",
   "execution_count": 1,
   "id": "02d5e70c",
   "metadata": {},
   "outputs": [],
   "source": [
    "#1 Crie uma variável S6ng e a exiba no sen6do inverso\n",
    "\n",
    "#2 Verifique se na frase “Python é uma linguagem excelente” existe as expressões:\n",
    "#'py’, 'ing’, ‘zzz’\n",
    "\n",
    "#3 Para:\n",
    "#salario = 3450.45\n",
    "#despesas = 2456.2\n",
    "#Caule o percentual do salário comprome6do com as despesas\n",
    "\n",
    "#4 Crie um programa em Python capaz de receber dois número x e y e que imprima na tela o resultado da soma destes números\n",
    "\n",
    "#5 Faça uma ro6na que receba a idade de um pessoa e determine se ela é:\n",
    "#Menor de idade (<18)\n",
    "#Adulto (entre 18 e 65)\n",
    "#Melhor idade (66 e 100)\n",
    "#Centenário > 100\n",
    "\n",
    "#5 Exiba a palavra 'paralelepípedo’ com suas letras separadas por virgulas -> p,a,r,a,l,e,l,e,p,í,p,e,d,o,\n",
    "\n",
    "#6 Exiba cada nome em uma linha diferente -> [Danieli', ‘André', ‘Marcelo', ‘Ana Paula’]\n",
    "\n",
    "#7 Sorteie um numero de 0– 9 ulizando a função randint(0, 9) e solicite ao usuário inserir um numero até o mesmo acertar o valor sorteado\n",
    "#randomicamente, ao acertar o valor exiba a frase “Número secreto x foi encontrado!” e pare o processamento.\n",
    "\n",
    "#8 Receba um número de entrada e e faça uma sequência de Fibonacci de 10 posições\n"
   ]
  },
  {
   "cell_type": "code",
   "execution_count": 2,
   "id": "8c8129d7",
   "metadata": {},
   "outputs": [
    {
     "data": {
      "text/plain": [
       "'gnirtS'"
      ]
     },
     "execution_count": 2,
     "metadata": {},
     "output_type": "execute_result"
    }
   ],
   "source": [
    "###(1)###\n",
    "vari_str = 'String'\n",
    "vari_str[::-1]"
   ]
  },
  {
   "cell_type": "code",
   "execution_count": 3,
   "id": "85531e8f",
   "metadata": {},
   "outputs": [
    {
     "name": "stdout",
     "output_type": "stream",
     "text": [
      "False\n",
      "True\n",
      "False\n"
     ]
    }
   ],
   "source": [
    "###(2)###\n",
    "texto = 'Python é uma linguagem excelente'\n",
    "print('py' in texto)\n",
    "print('ing' in texto)\n",
    "print('zzz' in texto)"
   ]
  },
  {
   "cell_type": "code",
   "execution_count": 4,
   "id": "f5a4af96",
   "metadata": {},
   "outputs": [
    {
     "name": "stdout",
     "output_type": "stream",
     "text": [
      "O percentual do salário comprometido com as despesas é de 71.18491790925822\n"
     ]
    }
   ],
   "source": [
    "###(3)###\n",
    "salario = 3450.45\n",
    "despesas = 2456.2\n",
    "per_comprometido = (despesas / salario) * 100\n",
    "\n",
    "print(f'O percentual do salário comprometido com as despesas é de {per_comprometido}')"
   ]
  },
  {
   "cell_type": "code",
   "execution_count": 5,
   "id": "5a2fa73c",
   "metadata": {},
   "outputs": [
    {
     "name": "stdout",
     "output_type": "stream",
     "text": [
      "Informe o valor de X: 2\n",
      "Informe o valor de Y: 4\n",
      "6\n"
     ]
    }
   ],
   "source": [
    "###(4)###\n",
    "x = input(\"Informe o valor de X: \")\n",
    "y = input(\"Informe o valor de Y: \")\n",
    "resultado = int(x) + int(y)\n",
    "print(resultado)"
   ]
  },
  {
   "cell_type": "code",
   "execution_count": 7,
   "id": "bc8a608b",
   "metadata": {},
   "outputs": [
    {
     "name": "stdout",
     "output_type": "stream",
     "text": [
      "['p', 'a', 'r', 'a', 'l', 'e', 'l', 'e', 'p', 'í', 'p', 'e', 'd', 'o']\n"
     ]
    }
   ],
   "source": [
    "###(5)###\n",
    "print(list('paralelepípedo'))"
   ]
  },
  {
   "cell_type": "code",
   "execution_count": 8,
   "id": "05372244",
   "metadata": {
    "scrolled": true
   },
   "outputs": [
    {
     "name": "stdout",
     "output_type": "stream",
     "text": [
      "- Danieli\n",
      "- André\n",
      "- Marcelo\n",
      "- Ana Paula\n"
     ]
    }
   ],
   "source": [
    "###(6)###\n",
    "lista = ['Danieli', 'André', 'Marcelo', 'Ana Paula']\n",
    "\n",
    "for i in lista:\n",
    "    print(\"- \" + i) "
   ]
  },
  {
   "cell_type": "code",
   "execution_count": 9,
   "id": "69a4dc35",
   "metadata": {},
   "outputs": [
    {
     "name": "stdout",
     "output_type": "stream",
     "text": [
      "Esse não é o número secreto, tente novamente.\n",
      "Esse não é o número secreto, tente novamente.\n",
      "Esse não é o número secreto, tente novamente.\n",
      "Esse não é o número secreto, tente novamente.\n",
      "Esse não é o número secreto, tente novamente.\n",
      "Esse não é o número secreto, tente novamente.\n",
      "Esse não é o número secreto, tente novamente.\n",
      "Número secreto 8 foi encontrado!\n"
     ]
    }
   ],
   "source": [
    "###(7)###\n",
    "import random\n",
    "\n",
    "random = random.randint(0, 9)\n",
    "loop = 0\n",
    "\n",
    "while True:\n",
    "    tentativas = int(input(\"Tente adivinhar o número secreto (0 á 9): \"))\n",
    "    loop += 1\n",
    "    if tentativas == 8:\n",
    "        print(f\"Número secreto {tentativas} foi encontrado!\")\n",
    "        break\n",
    "    else:\n",
    "        print(\"Esse não é o número secreto, tente novamente.\")"
   ]
  },
  {
   "cell_type": "code",
   "execution_count": 10,
   "id": "5b2a3785",
   "metadata": {
    "scrolled": true
   },
   "outputs": [
    {
     "name": "stdout",
     "output_type": "stream",
     "text": [
      "Sequência:\n",
      "1\n",
      "1\n",
      "2\n",
      "3\n",
      "5\n",
      "8\n",
      "13\n",
      "21\n",
      "34\n",
      "55\n"
     ]
    }
   ],
   "source": [
    "###(8)###\n",
    "numero_inicial = int(input(\"Digite o número inicial para começar a sequência Fibonacci: \"))\n",
    "\n",
    "fibonacci = [numero_inicial, numero_inicial]\n",
    "\n",
    "for i in range(8):\n",
    "    proximo_numero = fibonacci[-1] + fibonacci[-2]\n",
    "    fibonacci.append(proximo_numero)\n",
    "\n",
    "print(\"Sequência:\")\n",
    "for numero in fibonacci:\n",
    "    print(numero)"
   ]
  }
 ],
 "metadata": {
  "kernelspec": {
   "display_name": "Python 3 (ipykernel)",
   "language": "python",
   "name": "python3"
  },
  "language_info": {
   "codemirror_mode": {
    "name": "ipython",
    "version": 3
   },
   "file_extension": ".py",
   "mimetype": "text/x-python",
   "name": "python",
   "nbconvert_exporter": "python",
   "pygments_lexer": "ipython3",
   "version": "3.11.3"
  }
 },
 "nbformat": 4,
 "nbformat_minor": 5
}
